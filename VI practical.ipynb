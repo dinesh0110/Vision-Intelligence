{
 "cells": [
  {
   "cell_type": "markdown",
   "id": "e5284b3a",
   "metadata": {},
   "source": [
    "##Feature Extraction using RANSAC"
   ]
  },
  {
   "cell_type": "code",
   "execution_count": 2,
   "id": "c0e76673",
   "metadata": {},
   "outputs": [
    {
     "name": "stdout",
     "output_type": "stream",
     "text": [
      "Requirement already satisfied: opencv-python in c:\\users\\dinesh saliyar\\anaconda3\\lib\\site-packages (4.8.1.78)\n",
      "Requirement already satisfied: numpy>=1.21.2 in c:\\users\\dinesh saliyar\\anaconda3\\lib\\site-packages (from opencv-python) (1.24.3)\n"
     ]
    }
   ],
   "source": [
    "!pip install opencv-python\n"
   ]
  },
  {
   "cell_type": "code",
   "execution_count": 3,
   "id": "51677554",
   "metadata": {},
   "outputs": [],
   "source": [
    "import cv2\n",
    "import numpy as np\n",
    "import matplotlib.pyplot as plt"
   ]
  },
  {
   "cell_type": "code",
   "execution_count": 4,
   "id": "e864e5f5",
   "metadata": {},
   "outputs": [],
   "source": [
    "# Load the images\n",
    "img1_color=cv2.imread('./left.jpg')# Query image\n",
    "img2_color=cv2.imread('./right.jpg')# train image "
   ]
  },
  {
   "cell_type": "code",
   "execution_count": 5,
   "id": "85336698",
   "metadata": {},
   "outputs": [],
   "source": [
    "# Convert to grayscale\n",
    "img1=cv2.cvtColor(img1_color,cv2.COLOR_BGR2GRAY)\n",
    "img2=cv2.cvtColor(img2_color,cv2.COLOR_BGR2GRAY)"
   ]
  },
  {
   "cell_type": "code",
   "execution_count": 6,
   "id": "013621f0",
   "metadata": {},
   "outputs": [],
   "source": [
    "# Initialize the SIFT detectoe\n",
    "sift=cv2.SIFT_create()"
   ]
  },
  {
   "cell_type": "code",
   "execution_count": 7,
   "id": "2340695f",
   "metadata": {},
   "outputs": [],
   "source": [
    "# Detect the keypoints and compute desciptors\n",
    "kp1, des1 =sift.detectAndCompute(img1, None)\n",
    "kp2, des2 =sift.detectAndCompute(img2, None)"
   ]
  },
  {
   "cell_type": "code",
   "execution_count": 8,
   "id": "731b4716",
   "metadata": {},
   "outputs": [],
   "source": [
    "# FLANN parameters and matcher setup\n",
    "FLANN_INDEX_KDTREE=1\n",
    "index_params = dict(algorithm=FLANN_INDEX_KDTREE, trees=5)\n",
    "search_params = dict(checks=50)"
   ]
  },
  {
   "cell_type": "code",
   "execution_count": 9,
   "id": "41aa056b",
   "metadata": {},
   "outputs": [],
   "source": [
    "flann=cv2.FlannBasedMatcher(index_params, search_params)"
   ]
  },
  {
   "cell_type": "code",
   "execution_count": 10,
   "id": "0dce9094",
   "metadata": {},
   "outputs": [],
   "source": [
    "# Match Descriptors using KNN\n",
    "matches=flann.knnMatch(des1, des2, k=2)"
   ]
  },
  {
   "cell_type": "code",
   "execution_count": 11,
   "id": "76d4bdee",
   "metadata": {},
   "outputs": [],
   "source": [
    "# Ratio Test to keep good matches\n",
    "good=[]\n",
    "for m, n in matches:\n",
    "    if m.distance<0.7*n.distance:\n",
    "        good.append(m)"
   ]
  },
  {
   "cell_type": "code",
   "execution_count": 12,
   "id": "bd0d85b7",
   "metadata": {},
   "outputs": [],
   "source": [
    "# Extracting locations of good matches\n",
    "points1 = np.zeros((len(good), 2), dtype=np.float32)\n",
    "points2 = np.zeros((len(good), 2), dtype=np.float32)\n",
    "\n",
    "for i, match in enumerate(good):\n",
    "    points1[i,:] = kp1[match.queryIdx].pt\n",
    "    points2[i,:] = kp2[match.trainIdx].pt"
   ]
  },
  {
   "cell_type": "code",
   "execution_count": 22,
   "id": "fd5c4a85",
   "metadata": {
    "scrolled": true
   },
   "outputs": [
    {
     "name": "stdout",
     "output_type": "stream",
     "text": [
      "Not enough points to calculate homography.\n"
     ]
    }
   ],
   "source": [
    "# find the homography using RANSAC, only if there are enough points\n",
    "if len(points1) >= 4 and len(points2) >= 4:\n",
    "    H, status = cv2.findHomography(points1, points2, cv2.RANSAC, 5.0)\n",
    "else:\n",
    "    print(\"Not enough points to calculate homography.\")\n",
    "    status = None\n"
   ]
  },
  {
   "cell_type": "code",
   "execution_count": 18,
   "id": "f52faa68",
   "metadata": {},
   "outputs": [],
   "source": [
    "#create new image thatputs two images side by side\n",
    "height = max(img1_color.shape[0], img2_color.shape[0])\n",
    "width = img1_color.shape[1] + img2_color.shape[1]\n",
    "output = np.zeros((height, width, 3), dtype=np.uint8)"
   ]
  },
  {
   "cell_type": "code",
   "execution_count": 19,
   "id": "3f99614e",
   "metadata": {},
   "outputs": [],
   "source": [
    "#place both images withing this new image\n",
    "output[0:img1_color.shape[0], 0:img1_color.shape[1]] = img1_color\n",
    "output[0:img2_color.shape[0], img1_color.shape[1]:img1_color.shape[1]+img2_color.shape[1]] = img2_color"
   ]
  },
  {
   "cell_type": "code",
   "execution_count": 24,
   "id": "5b32a658",
   "metadata": {},
   "outputs": [
    {
     "ename": "TypeError",
     "evalue": "'NoneType' object is not subscriptable",
     "output_type": "error",
     "traceback": [
      "\u001b[1;31m---------------------------------------------------------------------------\u001b[0m",
      "\u001b[1;31mTypeError\u001b[0m                                 Traceback (most recent call last)",
      "Cell \u001b[1;32mIn[24], line 3\u001b[0m\n\u001b[0;32m      1\u001b[0m \u001b[38;5;66;03m# Draw Lines Between the matchinh points\u001b[39;00m\n\u001b[0;32m      2\u001b[0m \u001b[38;5;28;01mfor\u001b[39;00m i, (m,color) \u001b[38;5;129;01min\u001b[39;00m \u001b[38;5;28menumerate\u001b[39m(\u001b[38;5;28mzip\u001b[39m(good, np\u001b[38;5;241m.\u001b[39mrandom\u001b[38;5;241m.\u001b[39mrandint(\u001b[38;5;241m0\u001b[39m,\u001b[38;5;241m255\u001b[39m,(\u001b[38;5;28mlen\u001b[39m(good),\u001b[38;5;241m3\u001b[39m)))):\n\u001b[1;32m----> 3\u001b[0m     \u001b[38;5;28;01mif\u001b[39;00m status[i]:\n\u001b[0;32m      4\u001b[0m         plt1\u001b[38;5;241m=\u001b[39m\u001b[38;5;28mtuple\u001b[39m(\u001b[38;5;28mmap\u001b[39m(\u001b[38;5;28mint\u001b[39m,kp1[m\u001b[38;5;241m.\u001b[39mqueryIdx]\u001b[38;5;241m.\u001b[39mpt))\n\u001b[0;32m      5\u001b[0m         plt2\u001b[38;5;241m=\u001b[39m\u001b[38;5;28mtuple\u001b[39m(\u001b[38;5;28mmap\u001b[39m(\u001b[38;5;28mint\u001b[39m,kp2[m\u001b[38;5;241m.\u001b[39mtrainIdx]\u001b[38;5;241m.\u001b[39mpt))\n",
      "\u001b[1;31mTypeError\u001b[0m: 'NoneType' object is not subscriptable"
     ]
    }
   ],
   "source": [
    "# Draw Lines Between the matchinh points\n",
    "for i, (m,color) in enumerate(zip(good, np.random.randint(0,255,(len(good),3)))):\n",
    "    if status[i]:\n",
    "        plt1=tuple(map(int,kp1[m.queryIdx].pt))\n",
    "        plt2=tuple(map(int,kp2[m.trainIdx].pt))\n",
    "        pt2=(pt2[0]+img1_color.shape[1],pt2[1])\n",
    "                              \n",
    "        cv2.line(output, pt1, pt2, color.tolist(), 2)\n",
    "\n",
    "# convert the result to RGB for matplotlib display and show the final image \n",
    "output_rgb = cv2.cvtcolor(output, cv2.COLOR_BGR2RGB)\n",
    "\n",
    "# use matplotlib to display the image\n",
    "plt.figure(figsize=(15, 5))\n",
    "plt.imshow(output_rgb)\n",
    "plt.axis('off')\n",
    "plt.title('Feature Matching with RANSAC')\n",
    "plt.show()"
   ]
  },
  {
   "cell_type": "code",
   "execution_count": 21,
   "id": "a8f54bac",
   "metadata": {},
   "outputs": [
    {
     "name": "stdout",
     "output_type": "stream",
     "text": [
      "Not enough matching points to calculate homography.\n"
     ]
    }
   ],
   "source": []
  },
  {
   "cell_type": "code",
   "execution_count": null,
   "id": "26d6c2e2",
   "metadata": {},
   "outputs": [],
   "source": []
  },
  {
   "cell_type": "code",
   "execution_count": null,
   "id": "6573f802",
   "metadata": {},
   "outputs": [],
   "source": []
  },
  {
   "cell_type": "code",
   "execution_count": null,
   "id": "f7cb9858",
   "metadata": {},
   "outputs": [],
   "source": []
  },
  {
   "cell_type": "code",
   "execution_count": null,
   "id": "dac37db9",
   "metadata": {},
   "outputs": [],
   "source": []
  },
  {
   "cell_type": "code",
   "execution_count": null,
   "id": "d9051927",
   "metadata": {},
   "outputs": [],
   "source": []
  }
 ],
 "metadata": {
  "kernelspec": {
   "display_name": "Python 3 (ipykernel)",
   "language": "python",
   "name": "python3"
  },
  "language_info": {
   "codemirror_mode": {
    "name": "ipython",
    "version": 3
   },
   "file_extension": ".py",
   "mimetype": "text/x-python",
   "name": "python",
   "nbconvert_exporter": "python",
   "pygments_lexer": "ipython3",
   "version": "3.11.5"
  }
 },
 "nbformat": 4,
 "nbformat_minor": 5
}
