{
 "cells": [
  {
   "cell_type": "code",
   "execution_count": 7,
   "id": "06eab999",
   "metadata": {},
   "outputs": [],
   "source": [
    "import cv2\n",
    "import os\n",
    "import numpy as np\n",
    "import re  # Regular expression to extract labels from filenames\n",
    "from sklearn.model_selection import train_test_split\n",
    "from sklearn.preprocessing import LabelEncoder\n",
    "from sklearn.svm import SVC\n",
    "from sklearn.metrics import classification_report\n",
    "from tensorflow.keras.preprocessing.image import img_to_array\n",
    "from tensorflow.keras.utils import to_categorical\n",
    "from tensorflow.keras.models import Sequential\n",
    "from tensorflow.keras.layers import Conv2D, MaxPooling2D, Flatten, Dense"
   ]
  },
  {
   "cell_type": "code",
   "execution_count": 8,
   "id": "beaa291c",
   "metadata": {},
   "outputs": [],
   "source": [
    "# Function to load images and corresponding labels\n",
    "def load_data_from_directory(directory):\n",
    "    images = []\n",
    "    labels = []\n",
    "    # Regular expression to extract the label from filenames\n",
    "    label_pattern = re.compile(r'(apple|banana|orange|mixed)')  # Adjust based on dataset\n",
    "\n",
    "    for image_name in os.listdir(directory):\n",
    "        if image_name.endswith('.jpg'):\n",
    "            # Extract label from the filename (e.g., apple_1.jpg -> apple)\n",
    "            label = label_pattern.search(image_name).group(0)\n",
    "            \n",
    "            # Load image\n",
    "            img_path = os.path.join(directory, image_name)\n",
    "            image = cv2.imread(img_path)\n",
    "            image = cv2.resize(image, (128, 128))  # Resize image for CNN input size\n",
    "            image = img_to_array(image)\n",
    "            images.append(image)\n",
    "            \n",
    "            # Add corresponding label\n",
    "            labels.append(label)\n",
    "    \n",
    "    return np.array(images), np.array(labels)\n",
    "\n",
    "# Load training and testing data\n",
    "train_images, train_labels = load_data_from_directory('train')\n",
    "test_images, test_labels = load_data_from_directory('test')\n",
    "\n",
    "# Normalize image data to [0, 1]\n",
    "train_images = train_images.astype('float32') / 255.0\n",
    "test_images = test_images.astype('float32') / 255.0\n",
    "\n",
    "# Encode labels\n",
    "label_encoder = LabelEncoder()\n",
    "train_labels = label_encoder.fit_transform(train_labels)\n",
    "test_labels = label_encoder.transform(test_labels)\n",
    "\n",
    "# One-hot encode labels for CNN\n",
    "train_labels_cnn = to_categorical(train_labels)\n",
    "test_labels_cnn = to_categorical(test_labels)"
   ]
  },
  {
   "cell_type": "code",
   "execution_count": 9,
   "id": "27e833b0",
   "metadata": {},
   "outputs": [
    {
     "name": "stdout",
     "output_type": "stream",
     "text": [
      "SVM Classification Report:\n",
      "              precision    recall  f1-score   support\n",
      "\n",
      "           0       0.48      0.63      0.55        19\n",
      "           1       0.76      0.72      0.74        18\n",
      "           2       0.00      0.00      0.00         5\n",
      "           3       0.50      0.50      0.50        18\n",
      "\n",
      "    accuracy                           0.57        60\n",
      "   macro avg       0.44      0.46      0.45        60\n",
      "weighted avg       0.53      0.57      0.55        60\n",
      "\n"
     ]
    },
    {
     "name": "stderr",
     "output_type": "stream",
     "text": [
      "C:\\Users\\Dinesh saliyar\\anaconda3\\Lib\\site-packages\\sklearn\\metrics\\_classification.py:1531: UndefinedMetricWarning: Precision is ill-defined and being set to 0.0 in labels with no predicted samples. Use `zero_division` parameter to control this behavior.\n",
      "  _warn_prf(average, modifier, f\"{metric.capitalize()} is\", len(result))\n",
      "C:\\Users\\Dinesh saliyar\\anaconda3\\Lib\\site-packages\\sklearn\\metrics\\_classification.py:1531: UndefinedMetricWarning: Precision is ill-defined and being set to 0.0 in labels with no predicted samples. Use `zero_division` parameter to control this behavior.\n",
      "  _warn_prf(average, modifier, f\"{metric.capitalize()} is\", len(result))\n",
      "C:\\Users\\Dinesh saliyar\\anaconda3\\Lib\\site-packages\\sklearn\\metrics\\_classification.py:1531: UndefinedMetricWarning: Precision is ill-defined and being set to 0.0 in labels with no predicted samples. Use `zero_division` parameter to control this behavior.\n",
      "  _warn_prf(average, modifier, f\"{metric.capitalize()} is\", len(result))\n"
     ]
    }
   ],
   "source": [
    "# Extract HOG features from training and test images\n",
    "from skimage.feature import hog\n",
    "from skimage import exposure\n",
    "\n",
    "# Function to extract HOG features from images\n",
    "def extract_hog_features(images):\n",
    "    hog_features = []\n",
    "    for image in images:\n",
    "        # Convert the image to grayscale\n",
    "        gray_image = cv2.cvtColor(image, cv2.COLOR_BGR2GRAY)\n",
    "        # Extract HOG features\n",
    "        fd, hog_image = hog(gray_image, orientations=9, pixels_per_cell=(8, 8),\n",
    "                            cells_per_block=(2, 2), visualize=True)\n",
    "        hog_features.append(fd)\n",
    "    return np.array(hog_features)\n",
    "\n",
    "# Extract HOG features\n",
    "train_hog_features = extract_hog_features(train_images)\n",
    "test_hog_features = extract_hog_features(test_images)\n",
    "\n",
    "# Train SVM classifier\n",
    "svm_clf = SVC(kernel='linear')\n",
    "svm_clf.fit(train_hog_features, train_labels)\n",
    "\n",
    "# Make predictions on test data\n",
    "svm_predictions = svm_clf.predict(test_hog_features)\n",
    "\n",
    "# Evaluate the SVM model\n",
    "print(\"SVM Classification Report:\")\n",
    "print(classification_report(test_labels, svm_predictions))\n"
   ]
  },
  {
   "cell_type": "code",
   "execution_count": 11,
   "id": "a2db535f",
   "metadata": {},
   "outputs": [
    {
     "name": "stdout",
     "output_type": "stream",
     "text": [
      "Number of classes: 4\n"
     ]
    }
   ],
   "source": [
    "num_classes = len(np.unique(train_labels))\n",
    "print(f\"Number of classes: {num_classes}\") \n"
   ]
  },
  {
   "cell_type": "code",
   "execution_count": 12,
   "id": "1fd4dc23",
   "metadata": {},
   "outputs": [
    {
     "name": "stdout",
     "output_type": "stream",
     "text": [
      "Train labels shape: (240, 4)\n",
      "Test labels shape: (60, 4)\n"
     ]
    }
   ],
   "source": [
    "from tensorflow.keras.utils import to_categorical\n",
    "\n",
    "# One-hot encode labels for CNN \n",
    "train_labels_cnn = to_categorical(train_labels, num_classes=4)\n",
    "test_labels_cnn = to_categorical(test_labels, num_classes=4)\n",
    "\n",
    "print(f\"Train labels shape: {train_labels_cnn.shape}\")\n",
    "print(f\"Test labels shape: {test_labels_cnn.shape}\")\n"
   ]
  },
  {
   "cell_type": "code",
   "execution_count": 13,
   "id": "1dabbc2a",
   "metadata": {},
   "outputs": [],
   "source": [
    "# Build the CNN model\n",
    "cnn_model = Sequential()\n",
    "cnn_model.add(Conv2D(32, (3, 3), activation='relu', input_shape=(128, 128, 3)))\n",
    "cnn_model.add(MaxPooling2D((2, 2)))\n",
    "cnn_model.add(Conv2D(64, (3, 3), activation='relu'))\n",
    "cnn_model.add(MaxPooling2D((2, 2)))\n",
    "cnn_model.add(Flatten())\n",
    "cnn_model.add(Dense(128, activation='relu'))\n",
    "cnn_model.add(Dense(4, activation='softmax'))  # Number of classes (4)\n",
    "\n",
    "# Compile the CNN model\n",
    "cnn_model.compile(optimizer='adam', loss='categorical_crossentropy', metrics=['accuracy'])\n"
   ]
  },
  {
   "cell_type": "code",
   "execution_count": 14,
   "id": "57aaa534",
   "metadata": {},
   "outputs": [
    {
     "name": "stdout",
     "output_type": "stream",
     "text": [
      "Epoch 1/10\n",
      "\u001b[1m6/6\u001b[0m \u001b[32m━━━━━━━━━━━━━━━━━━━━\u001b[0m\u001b[37m\u001b[0m \u001b[1m3s\u001b[0m 313ms/step - accuracy: 0.4161 - loss: 3.3826 - val_accuracy: 0.0000e+00 - val_loss: 1.1370\n",
      "Epoch 2/10\n",
      "\u001b[1m6/6\u001b[0m \u001b[32m━━━━━━━━━━━━━━━━━━━━\u001b[0m\u001b[37m\u001b[0m \u001b[1m2s\u001b[0m 308ms/step - accuracy: 0.4099 - loss: 1.4088 - val_accuracy: 0.2917 - val_loss: 1.1414\n",
      "Epoch 3/10\n",
      "\u001b[1m6/6\u001b[0m \u001b[32m━━━━━━━━━━━━━━━━━━━━\u001b[0m\u001b[37m\u001b[0m \u001b[1m2s\u001b[0m 307ms/step - accuracy: 0.7518 - loss: 0.9409 - val_accuracy: 0.0417 - val_loss: 1.8675\n",
      "Epoch 4/10\n",
      "\u001b[1m6/6\u001b[0m \u001b[32m━━━━━━━━━━━━━━━━━━━━\u001b[0m\u001b[37m\u001b[0m \u001b[1m2s\u001b[0m 308ms/step - accuracy: 0.8424 - loss: 0.4329 - val_accuracy: 0.3125 - val_loss: 1.5301\n",
      "Epoch 5/10\n",
      "\u001b[1m6/6\u001b[0m \u001b[32m━━━━━━━━━━━━━━━━━━━━\u001b[0m\u001b[37m\u001b[0m \u001b[1m2s\u001b[0m 300ms/step - accuracy: 0.8696 - loss: 0.3009 - val_accuracy: 0.6250 - val_loss: 0.7969\n",
      "Epoch 6/10\n",
      "\u001b[1m6/6\u001b[0m \u001b[32m━━━━━━━━━━━━━━━━━━━━\u001b[0m\u001b[37m\u001b[0m \u001b[1m2s\u001b[0m 309ms/step - accuracy: 0.9441 - loss: 0.2101 - val_accuracy: 0.7917 - val_loss: 0.6127\n",
      "Epoch 7/10\n",
      "\u001b[1m6/6\u001b[0m \u001b[32m━━━━━━━━━━━━━━━━━━━━\u001b[0m\u001b[37m\u001b[0m \u001b[1m2s\u001b[0m 307ms/step - accuracy: 0.9406 - loss: 0.1357 - val_accuracy: 0.1250 - val_loss: 3.2528\n",
      "Epoch 8/10\n",
      "\u001b[1m6/6\u001b[0m \u001b[32m━━━━━━━━━━━━━━━━━━━━\u001b[0m\u001b[37m\u001b[0m \u001b[1m2s\u001b[0m 304ms/step - accuracy: 0.9425 - loss: 0.1513 - val_accuracy: 0.8958 - val_loss: 0.4047\n",
      "Epoch 9/10\n",
      "\u001b[1m6/6\u001b[0m \u001b[32m━━━━━━━━━━━━━━━━━━━━\u001b[0m\u001b[37m\u001b[0m \u001b[1m3s\u001b[0m 307ms/step - accuracy: 0.9883 - loss: 0.0611 - val_accuracy: 0.3958 - val_loss: 2.4036\n",
      "Epoch 10/10\n",
      "\u001b[1m6/6\u001b[0m \u001b[32m━━━━━━━━━━━━━━━━━━━━\u001b[0m\u001b[37m\u001b[0m \u001b[1m2s\u001b[0m 304ms/step - accuracy: 0.9950 - loss: 0.0326 - val_accuracy: 0.8125 - val_loss: 0.6835\n",
      "\u001b[1m2/2\u001b[0m \u001b[32m━━━━━━━━━━━━━━━━━━━━\u001b[0m\u001b[37m\u001b[0m \u001b[1m0s\u001b[0m 78ms/step - accuracy: 0.8472 - loss: 0.4847\n",
      "CNN Model Accuracy: 83.33%\n"
     ]
    }
   ],
   "source": [
    "# Train the CNN model\n",
    "cnn_model.fit(train_images, train_labels_cnn, epochs=10, batch_size=32, validation_split=0.2)\n",
    "\n",
    "# Evaluate the CNN model\n",
    "cnn_loss, cnn_acc = cnn_model.evaluate(test_images, test_labels_cnn)\n",
    "print(f\"CNN Model Accuracy: {cnn_acc * 100:.2f}%\")\n"
   ]
  },
  {
   "cell_type": "code",
   "execution_count": 15,
   "id": "63efc5ed",
   "metadata": {},
   "outputs": [
    {
     "name": "stdout",
     "output_type": "stream",
     "text": [
      "\u001b[1m2/2\u001b[0m \u001b[32m━━━━━━━━━━━━━━━━━━━━\u001b[0m\u001b[37m\u001b[0m \u001b[1m0s\u001b[0m 83ms/step\n",
      "CNN Classification Report:\n",
      "              precision    recall  f1-score   support\n",
      "\n",
      "       apple       0.85      0.89      0.87        19\n",
      "      banana       0.76      0.89      0.82        18\n",
      "       mixed       0.00      0.00      0.00         5\n",
      "      orange       0.94      0.94      0.94        18\n",
      "\n",
      "    accuracy                           0.83        60\n",
      "   macro avg       0.64      0.68      0.66        60\n",
      "weighted avg       0.78      0.83      0.81        60\n",
      "\n"
     ]
    }
   ],
   "source": [
    "from sklearn.metrics import classification_report\n",
    "\n",
    "# Predict using the CNN model\n",
    "cnn_predictions = cnn_model.predict(test_images)\n",
    "cnn_predictions = np.argmax(cnn_predictions, axis=1)\n",
    "\n",
    "# Generate the classification report for CNN\n",
    "print(\"CNN Classification Report:\")\n",
    "print(classification_report(test_labels, cnn_predictions, target_names=label_encoder.classes_))\n"
   ]
  },
  {
   "cell_type": "code",
   "execution_count": 16,
   "id": "561b869c",
   "metadata": {},
   "outputs": [
    {
     "data": {
      "image/png": "[encoded data removed]",
      "text/plain": [
       "<Figure size 800x600 with 2 Axes>"
      ]
     },
     "metadata": {},
     "output_type": "display_data"
    }
   ],
   "source": [
    "import matplotlib.pyplot as plt\n",
    "from sklearn.metrics import confusion_matrix\n",
    "import seaborn as sns\n",
    "\n",
    "# Confusion Matrix\n",
    "cm = confusion_matrix(test_labels, cnn_predictions)\n",
    "\n",
    "# Plot Confusion Matrix\n",
    "plt.figure(figsize=(8, 6))\n",
    "sns.heatmap(cm, annot=True, fmt='d', cmap='Blues', xticklabels=label_encoder.classes_, yticklabels=label_encoder.classes_)\n",
    "plt.xlabel('Predicted')\n",
    "plt.ylabel('True')\n",
    "plt.title('Confusion Matrix')\n",
    "plt.show()\n"
   ]
  },
  {
   "cell_type": "code",
   "execution_count": 17,
   "id": "50f77d98",
   "metadata": {},
   "outputs": [
    {
     "name": "stderr",
     "output_type": "stream",
     "text": [
      "C:\\Users\\Dinesh saliyar\\anaconda3\\Lib\\site-packages\\keras\\src\\trainers\\data_adapters\\py_dataset_adapter.py:121: UserWarning: Your `PyDataset` class should call `super().__init__(**kwargs)` in its constructor. `**kwargs` can include `workers`, `use_multiprocessing`, `max_queue_size`. Do not pass these arguments to `fit()`, as they will be ignored.\n",
      "  self._warn_if_super_not_called()\n"
     ]
    },
    {
     "name": "stdout",
     "output_type": "stream",
     "text": [
      "Epoch 1/10\n",
      "\u001b[1m8/8\u001b[0m \u001b[32m━━━━━━━━━━━━━━━━━━━━\u001b[0m\u001b[37m\u001b[0m \u001b[1m4s\u001b[0m 365ms/step - accuracy: 0.7687 - loss: 0.7539 - val_accuracy: 0.8000 - val_loss: 0.5381\n",
      "Epoch 2/10\n",
      "\u001b[1m8/8\u001b[0m \u001b[32m━━━━━━━━━━━━━━━━━━━━\u001b[0m\u001b[37m\u001b[0m \u001b[1m4s\u001b[0m 437ms/step - accuracy: 0.7598 - loss: 0.6209 - val_accuracy: 0.8667 - val_loss: 0.5784\n",
      "Epoch 3/10\n",
      "\u001b[1m8/8\u001b[0m \u001b[32m━━━━━━━━━━━━━━━━━━━━\u001b[0m\u001b[37m\u001b[0m \u001b[1m4s\u001b[0m 441ms/step - accuracy: 0.8412 - loss: 0.5322 - val_accuracy: 0.8333 - val_loss: 0.5918\n",
      "Epoch 4/10\n",
      "\u001b[1m8/8\u001b[0m \u001b[32m━━━━━━━━━━━━━━━━━━━━\u001b[0m\u001b[37m\u001b[0m \u001b[1m4s\u001b[0m 491ms/step - accuracy: 0.8822 - loss: 0.3935 - val_accuracy: 0.8833 - val_loss: 0.4371\n",
      "Epoch 5/10\n",
      "\u001b[1m8/8\u001b[0m \u001b[32m━━━━━━━━━━━━━━━━━━━━\u001b[0m\u001b[37m\u001b[0m \u001b[1m4s\u001b[0m 470ms/step - accuracy: 0.8939 - loss: 0.3278 - val_accuracy: 0.8833 - val_loss: 0.4551\n",
      "Epoch 6/10\n",
      "\u001b[1m8/8\u001b[0m \u001b[32m━━━━━━━━━━━━━━━━━━━━\u001b[0m\u001b[37m\u001b[0m \u001b[1m4s\u001b[0m 438ms/step - accuracy: 0.8695 - loss: 0.3926 - val_accuracy: 0.8833 - val_loss: 0.5056\n",
      "Epoch 7/10\n",
      "\u001b[1m8/8\u001b[0m \u001b[32m━━━━━━━━━━━━━━━━━━━━\u001b[0m\u001b[37m\u001b[0m \u001b[1m3s\u001b[0m 414ms/step - accuracy: 0.8732 - loss: 0.3779 - val_accuracy: 0.8500 - val_loss: 0.5178\n",
      "Epoch 8/10\n",
      "\u001b[1m8/8\u001b[0m \u001b[32m━━━━━━━━━━━━━━━━━━━━\u001b[0m\u001b[37m\u001b[0m \u001b[1m3s\u001b[0m 415ms/step - accuracy: 0.8657 - loss: 0.3942 - val_accuracy: 0.8000 - val_loss: 0.5705\n",
      "Epoch 9/10\n",
      "\u001b[1m8/8\u001b[0m \u001b[32m━━━━━━━━━━━━━━━━━━━━\u001b[0m\u001b[37m\u001b[0m \u001b[1m4s\u001b[0m 472ms/step - accuracy: 0.8614 - loss: 0.4019 - val_accuracy: 0.8667 - val_loss: 0.5032\n",
      "Epoch 10/10\n",
      "\u001b[1m8/8\u001b[0m \u001b[32m━━━━━━━━━━━━━━━━━━━━\u001b[0m\u001b[37m\u001b[0m \u001b[1m4s\u001b[0m 456ms/step - accuracy: 0.8894 - loss: 0.3759 - val_accuracy: 0.8667 - val_loss: 0.3793\n"
     ]
    },
    {
     "data": {
      "text/plain": [
       "<keras.src.callbacks.history.History at 0x28333d5ead0>"
      ]
     },
     "execution_count": 17,
     "metadata": {},
     "output_type": "execute_result"
    }
   ],
   "source": [
    "from tensorflow.keras.preprocessing.image import ImageDataGenerator\n",
    "\n",
    "# Create an image data generator with augmentation\n",
    "datagen = ImageDataGenerator(\n",
    "    rotation_range=40,\n",
    "    width_shift_range=0.2,\n",
    "    height_shift_range=0.2,\n",
    "    shear_range=0.2,\n",
    "    zoom_range=0.2,\n",
    "    horizontal_flip=True,\n",
    "    fill_mode='nearest'\n",
    ")\n",
    "\n",
    "# Fit the generator to the training images\n",
    "datagen.fit(train_images)\n",
    "\n",
    "# Train the CNN model using augmented data\n",
    "cnn_model.fit(datagen.flow(train_images, train_labels_cnn, batch_size=32), epochs=10, validation_data=(test_images, test_labels_cnn))\n"
   ]
  },
  {
   "cell_type": "code",
   "execution_count": 18,
   "id": "74a5812a",
   "metadata": {},
   "outputs": [
    {
     "name": "stdout",
     "output_type": "stream",
     "text": [
      "SVM Performance:\n",
      "              precision    recall  f1-score   support\n",
      "\n",
      "       apple       0.48      0.63      0.55        19\n",
      "      banana       0.76      0.72      0.74        18\n",
      "       mixed       0.00      0.00      0.00         5\n",
      "      orange       0.50      0.50      0.50        18\n",
      "\n",
      "    accuracy                           0.57        60\n",
      "   macro avg       0.44      0.46      0.45        60\n",
      "weighted avg       0.53      0.57      0.55        60\n",
      "\n",
      "CNN Model Accuracy: 83.33%\n"
     ]
    },
    {
     "name": "stderr",
     "output_type": "stream",
     "text": [
      "C:\\Users\\Dinesh saliyar\\anaconda3\\Lib\\site-packages\\sklearn\\metrics\\_classification.py:1531: UndefinedMetricWarning: Precision is ill-defined and being set to 0.0 in labels with no predicted samples. Use `zero_division` parameter to control this behavior.\n",
      "  _warn_prf(average, modifier, f\"{metric.capitalize()} is\", len(result))\n",
      "C:\\Users\\Dinesh saliyar\\anaconda3\\Lib\\site-packages\\sklearn\\metrics\\_classification.py:1531: UndefinedMetricWarning: Precision is ill-defined and being set to 0.0 in labels with no predicted samples. Use `zero_division` parameter to control this behavior.\n",
      "  _warn_prf(average, modifier, f\"{metric.capitalize()} is\", len(result))\n",
      "C:\\Users\\Dinesh saliyar\\anaconda3\\Lib\\site-packages\\sklearn\\metrics\\_classification.py:1531: UndefinedMetricWarning: Precision is ill-defined and being set to 0.0 in labels with no predicted samples. Use `zero_division` parameter to control this behavior.\n",
      "  _warn_prf(average, modifier, f\"{metric.capitalize()} is\", len(result))\n"
     ]
    }
   ],
   "source": [
    "# SVM Performance\n",
    "print(\"SVM Performance:\")\n",
    "print(classification_report(test_labels, svm_predictions, target_names=label_encoder.classes_))\n",
    "\n",
    "# CNN Performance\n",
    "print(f\"CNN Model Accuracy: {cnn_acc * 100:.2f}%\")\n"
   ]
  },
  {
   "cell_type": "code",
   "execution_count": null,
   "id": "65e452a6",
   "metadata": {},
   "outputs": [],
   "source": []
  }
 ],
 "metadata": {
  "kernelspec": {
   "display_name": "Python 3 (ipykernel)",
   "language": "python",
   "name": "python3"
  },
  "language_info": {
   "codemirror_mode": {
    "name": "ipython",
    "version": 3
   },
   "file_extension": ".py",
   "mimetype": "text/x-python",
   "name": "python",
   "nbconvert_exporter": "python",
   "pygments_lexer": "ipython3",
   "version": "3.11.5"
  }
 },
 "nbformat": 4,
 "nbformat_minor": 5
}
